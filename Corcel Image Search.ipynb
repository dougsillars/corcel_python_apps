{
 "cells": [
  {
   "cell_type": "code",
   "execution_count": 63,
   "id": "dfb11a57",
   "metadata": {},
   "outputs": [],
   "source": [
    "import requests, json\n",
    "from dotenv import dotenv_values\n",
    "corcelKey = dotenv_values(\".env\")['corcel_apikey']\n",
    "\n",
    "\n",
    "url = \"https://api.corcel.io/vision/embed_text\"\n",
    "\n",
    "payload = {\n",
    "    \"text_prompts\": [\"bicycle\"]\n",
    "}\n",
    "headers = {\n",
    "    \"accept\": \"application/json\",\n",
    "    \"content-type\": \"application/json\",\n",
    "    \"Authorization\": corcelKey\n",
    "}\n",
    "\n",
    "response = requests.post(url, json=payload, headers=headers)\n",
    "\n",
    "jsonresponse = json.loads(response.text)\n",
    "text_embedding = jsonresponse[0]['text_embeddings'][0]\n",
    "\n",
    "#print(text_embedding)\n",
    "\n"
   ]
  },
  {
   "cell_type": "code",
   "execution_count": 64,
   "id": "f7719949",
   "metadata": {},
   "outputs": [],
   "source": [
    "import requests\n",
    "import base64\n",
    "image_urls = [\n",
    "    \"https://storage.googleapis.com/corcel-images/d36a1306-6973-4d94-9.webp\",\n",
    "    \"https://storage.googleapis.com/corcel-images/8da56a62-6129-48c7-b.webp\",\n",
    "    \"https://storage.googleapis.com/corcel-images/1dfa33d5-f1e9-42c9-a.webp\",\n",
    "    \"https://storage.googleapis.com/corcel-images/74e45f262c5f5748954b617cc2fbc103.webp\",\n",
    "    \"https://storage.googleapis.com/corcel-images/2df9fa91-7fac-4dd2-a.webp\",\n",
    "    \"https://storage.googleapis.com/corcel-images/6debe5d9-a9ba-45eb-b.webp\"\n",
    "]\n",
    "\n",
    "b64_images = []\n",
    "\n",
    "for image in image_urls:\n",
    "    response = requests.get(image)\n",
    "\n",
    "    # Check if the request was successful (status code 200)\n",
    "    if response.status_code == 200:\n",
    "        # Convert the image content to base64\n",
    "        base64_image = base64.b64encode(response.content).decode('utf-8')\n",
    "    else:\n",
    "        base64_image = \"\"\n",
    "    \n",
    "    b64_images.append(base64_image)\n",
    "\n"
   ]
  },
  {
   "cell_type": "code",
   "execution_count": 65,
   "id": "f729744f",
   "metadata": {},
   "outputs": [
    {
     "name": "stdout",
     "output_type": "stream",
     "text": [
      "6\n"
     ]
    }
   ],
   "source": [
    "#encode the B64 images into vectors\n",
    "\n",
    "url = \"https://api.corcel.io/vision/embed_image\"\n",
    "\n",
    "payload = {\n",
    "    \"image_b64s\": b64_images\n",
    "}\n",
    "headers = {\n",
    "    \"accept\": \"application/json\",\n",
    "    \"content-type\": \"application/json\",\n",
    "    \"Authorization\": corcelKey\n",
    "}\n",
    "\n",
    "response = requests.post(url, json=payload, headers=headers)\n",
    "\n",
    "\n",
    "jsonresponse = json.loads(response.text)\n",
    "image_embedding = jsonresponse[0]['image_embeddings']\n",
    "\n",
    "print(len(image_embedding))\n"
   ]
  },
  {
   "cell_type": "code",
   "execution_count": 66,
   "id": "80ee49ae",
   "metadata": {},
   "outputs": [
    {
     "name": "stdout",
     "output_type": "stream",
     "text": [
      "similarity : 32.296\n"
     ]
    },
    {
     "data": {
      "text/html": [
       "<img src=\"https://storage.googleapis.com/corcel-images/8da56a62-6129-48c7-b.webp\" width=\"400\"/>"
      ],
      "text/plain": [
       "<IPython.core.display.Image object>"
      ]
     },
     "metadata": {},
     "output_type": "display_data"
    },
    {
     "name": "stdout",
     "output_type": "stream",
     "text": [
      "similarity : 30.858\n"
     ]
    },
    {
     "data": {
      "text/html": [
       "<img src=\"https://storage.googleapis.com/corcel-images/d36a1306-6973-4d94-9.webp\" width=\"400\"/>"
      ],
      "text/plain": [
       "<IPython.core.display.Image object>"
      ]
     },
     "metadata": {},
     "output_type": "display_data"
    },
    {
     "name": "stdout",
     "output_type": "stream",
     "text": [
      "similarity : 30.001\n"
     ]
    },
    {
     "data": {
      "text/html": [
       "<img src=\"https://storage.googleapis.com/corcel-images/1dfa33d5-f1e9-42c9-a.webp\" width=\"400\"/>"
      ],
      "text/plain": [
       "<IPython.core.display.Image object>"
      ]
     },
     "metadata": {},
     "output_type": "display_data"
    },
    {
     "name": "stdout",
     "output_type": "stream",
     "text": [
      "similarity : 29.718\n"
     ]
    },
    {
     "data": {
      "text/html": [
       "<img src=\"https://storage.googleapis.com/corcel-images/74e45f262c5f5748954b617cc2fbc103.webp\" width=\"400\"/>"
      ],
      "text/plain": [
       "<IPython.core.display.Image object>"
      ]
     },
     "metadata": {},
     "output_type": "display_data"
    },
    {
     "name": "stdout",
     "output_type": "stream",
     "text": [
      "similarity : 25.337\n"
     ]
    },
    {
     "data": {
      "text/html": [
       "<img src=\"https://storage.googleapis.com/corcel-images/2df9fa91-7fac-4dd2-a.webp\" width=\"400\"/>"
      ],
      "text/plain": [
       "<IPython.core.display.Image object>"
      ]
     },
     "metadata": {},
     "output_type": "display_data"
    },
    {
     "name": "stdout",
     "output_type": "stream",
     "text": [
      "similarity : 23.471\n"
     ]
    },
    {
     "data": {
      "text/html": [
       "<img src=\"https://storage.googleapis.com/corcel-images/6debe5d9-a9ba-45eb-b.webp\" width=\"400\"/>"
      ],
      "text/plain": [
       "<IPython.core.display.Image object>"
      ]
     },
     "metadata": {},
     "output_type": "display_data"
    }
   ],
   "source": [
    "import numpy as np\n",
    "from IPython.display import display, Image\n",
    "\n",
    "#create the text vector\n",
    "textVector = np.array(text_embedding)\n",
    "\n",
    "#store dot products in ana array\n",
    "dotProducts = []\n",
    "\n",
    "#loop through the images, create the vector, do a dot product, and place the solution in the dotProducts array\n",
    "for imageVector in image_embedding:\n",
    "\n",
    "    dotProd = np.dot(textVector, imageVector)\n",
    "    dotProducts.append(dotProd)\n",
    "\n",
    "#sort the dot products highest to lowest\n",
    "sorted_indices = np.argsort(dotProducts)[::-1]\n",
    "\n",
    "#from highest to lowest, show the dot product (with 3 digits after the decimal), and the image.\n",
    "for index in sorted_indices:\n",
    "    print(f\"similarity : {dotProducts[index]:.3f}\")\n",
    "    display(Image(url=image_urls[index], width =400))"
   ]
  }
 ],
 "metadata": {
  "kernelspec": {
   "display_name": "Python 3 (ipykernel)",
   "language": "python",
   "name": "python3"
  },
  "language_info": {
   "codemirror_mode": {
    "name": "ipython",
    "version": 3
   },
   "file_extension": ".py",
   "mimetype": "text/x-python",
   "name": "python",
   "nbconvert_exporter": "python",
   "pygments_lexer": "ipython3",
   "version": "3.11.5"
  }
 },
 "nbformat": 4,
 "nbformat_minor": 5
}
