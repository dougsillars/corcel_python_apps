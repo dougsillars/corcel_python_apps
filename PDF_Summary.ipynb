{
 "cells": [
  {
   "cell_type": "code",
   "execution_count": 27,
   "id": "c1c35251",
   "metadata": {},
   "outputs": [],
   "source": [
    "import convertapi\n",
    "from dotenv import dotenv_values\n",
    "import json, requests\n",
    "\n",
    "# api secrete\n",
    "convertapi.api_secret = dotenv_values(\".env\")['convertApi_secret']\n",
    "corcelKey = dotenv_values(\".env\")['corcel_apikey']"
   ]
  },
  {
   "cell_type": "code",
   "execution_count": 24,
   "id": "f36caea8",
   "metadata": {},
   "outputs": [],
   "source": [
    "\n",
    "#path to your PDF\n",
    "file_path = '/Users/dougsillars/Documents/resumes/DougSillars_2024.pdf'\n",
    "\n",
    "#use convertAPI to create a text document. You get 250 conversions for free.\n",
    "result = convertapi.convert('txt', { 'File': file_path }, from_format = 'pdf')\n",
    "text_url=result.response['Files'][0]['Url']\n",
    "\n",
    "#get the text\n",
    "textResponse = requests.get(text_url)\n",
    "text_toSummarize = textResponse.text"
   ]
  },
  {
   "cell_type": "code",
   "execution_count": 29,
   "id": "5e5517e5",
   "metadata": {},
   "outputs": [
    {
     "name": "stdout",
     "output_type": "stream",
     "text": [
      "[{\"hotkey\":\"5CK4CK7DRK1gHim8Fj6VQriGuzGccXUcJSt1jYjtrMBpGT98\",\"coldkey\":\"5DciwkyfxTHLb6KYDoN5kC3DM8UTB3gkiPn7TupBPahC12Mk\",\"incentive\":0.004226749297231436,\"uid\":\"177\",\"choices\":[{\"delta\":{\"content\":\"Doug Sillars is an experienced Developer Relations Leader, Educator, Author, Speaker, and Researcher with a focus on creating documentation, education, and communication strategies to support and grow customer bases. He has authored the book \\\"High Performance Android Apps\\\" and is recognized as a Google Developer Expert (GDE) since 2018.\\n\\nProfessional Experience:\\n- Head of Developer Relations at unSkript (Oct 2022 - Present), where he created documentation, a YouTube channel, blogs, and developed the company's website. He also aided in the creation of Generative-AI automation tooling and presented at conferences.\\n- Senior Developer Relations Engineer at Orkes (Jan 2022 – Oct 2022), where he designed content creation strategies and organized virtual meetups, among other responsibilities.\\n- Head of Developer Relations at api.video (Feb 2020 - Dec 2021), where he established the Developer Experience and Relations program, created various developer resources, and grew the community.\\n- Developer Relations at Mindee (2020 - 2022) and Fidel.uk (2020), where he created Developer Experience and Relations programs and produced educational content.\\n- Freelance Developer Evangelist in Europe (2018 – 2020), where he presented at numerous conferences and workshops, and contributed to various publications.\\n- Worked at AT&T (2008 – 2018) in Developer Relations and Technical Account Management, establishing partnerships and launching tools to improve mobile application performance.\\n\\nPublications/Presentations:\\n- Author of \\\"High Performance Android Apps\\\" and a book on Generative-AI prompting (expected early 2024).\\n- Has a history of public speaking at various conferences, with a partial listing available on his website.\\n- Has written blog posts for unSkript, dougsillars.com, api.video, and Orkes, and produced videos for Orkes and unSkript.\\n\\nDeveloper Tools:\\n- Developed a.video, Video Optimizer, and has sample applications on GitHub.\\n\\nEducation:\\n- PhD in Inorganic Chemistry from the University of Wisconsin-Madison.\\n- BA, Double Major Cum Laude in Chemistry and Mathematics from the College of Wooster in Ohio.\\n\\nContact Information:\\n- Email: doug.sillars@gmail.com\\n- Twitter: @dougsillars\\n- Phone: (608) 616-9572\\n- Website: https://SpeakOfTheDevRel.Cloud\"},\"finish_reason\":\"stop\"}]}]\n"
     ]
    }
   ],
   "source": [
    "# Corcel Magic\n",
    "\n",
    "import requests\n",
    "\n",
    "url = \"https://api.corcel.io/cortext/text\"\n",
    "\n",
    "payload = {\n",
    "    \"model\": \"cortext-ultra\",\n",
    "    \"stream\": False,\n",
    "    \"miners_to_query\": 1,\n",
    "    \"top_k_miners_to_query\": 40,\n",
    "    \"ensure_responses\": True,\n",
    "    \"messages\": [\n",
    "        {\n",
    "            \"role\": \"user\",\n",
    "            \"content\": f\"provide a brief summary of the following document:  {text_toSummarize}\"\n",
    "        }\n",
    "    ]\n",
    "}\n",
    "headers = {\n",
    "    \"accept\": \"application/json\",\n",
    "    \"content-type\": \"application/json\",\n",
    "    \"Authorization\": corcelKey\n",
    "}\n",
    "\n",
    "response = requests.post(url, json=payload, headers=headers)\n",
    "\n",
    "print(response.text)"
   ]
  },
  {
   "cell_type": "code",
   "execution_count": null,
   "id": "575d787f",
   "metadata": {},
   "outputs": [],
   "source": []
  }
 ],
 "metadata": {
  "kernelspec": {
   "display_name": "Python 3 (ipykernel)",
   "language": "python",
   "name": "python3"
  },
  "language_info": {
   "codemirror_mode": {
    "name": "ipython",
    "version": 3
   },
   "file_extension": ".py",
   "mimetype": "text/x-python",
   "name": "python",
   "nbconvert_exporter": "python",
   "pygments_lexer": "ipython3",
   "version": "3.11.5"
  }
 },
 "nbformat": 4,
 "nbformat_minor": 5
}
